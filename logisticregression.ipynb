{
 "cells": [
  {
   "cell_type": "code",
   "execution_count": 46,
   "id": "ed6a3987",
   "metadata": {},
   "outputs": [
    {
     "name": "stdout",
     "output_type": "stream",
     "text": [
      "Mean Accuracy: 0.969 (0.022)\n",
      "Predicted Probabilities: [0.98163725 0.01836275]\n",
      "Predicted Class: 0\n"
     ]
    }
   ],
   "source": [
    "#using https://machinelearningmastery.com/multinomial-logistic-regression-with-python/\n",
    "import pandas as pd\n",
    "from numpy import mean\n",
    "from numpy import std\n",
    "from sklearn.datasets import make_classification\n",
    "from sklearn.model_selection import cross_val_score\n",
    "from sklearn.model_selection import RepeatedStratifiedKFold\n",
    "from sklearn.linear_model import LogisticRegression\n",
    "\n",
    "#technique of loading in and making variables into numbers stolen from Izzy, lmk if youre cool with that\n",
    "data = pd.read_csv('/Users/nataliesimkins/Downloads/cleaned_dummy_dataset.csv')\n",
    "data_full = pd.read_csv('/Users/nataliesimkins/Downloads/cleansoybean_csv.csv')\n",
    "data['Class'] = data_full['class']\n",
    "data = data.loc[:,'plant-growth_abnorm':]\n",
    "data.tail()\n",
    "\n",
    "data_num = data.replace({False: 0, True: 1})\n",
    "data_num = data_num.drop(columns=['Class'])\n",
    "data_num\n",
    "\n",
    "\n",
    "\n",
    "#making a proof that it works example\n",
    "X = data_num.drop(['roots_rotted'],axis=1)\n",
    "y = data_num['roots_rotted']\n",
    "\n",
    "#running the logistic regression\n",
    "model = LogisticRegression(multi_class='multinomial', solver='lbfgs')\n",
    "ModelEvalProcedure = RepeatedStratifiedKFold(n_splits=10, n_repeats=3, random_state=1)\n",
    "ModelAccuracyScores = cross_val_score(model, X, y, scoring='accuracy', cv=ModelEvalProcedure, n_jobs=-1)\n",
    "print('Mean Accuracy: %.3f (%.3f)' % (mean(ModelAccuracyScores), std(ModelAccuracyScores)))\n",
    "\n",
    "#fit model+predict class of first observation\n",
    "result = model.fit(X, y)\n",
    "row = X.iloc[0:1, :]\n",
    "yhat = model.predict_proba(row)\n",
    "print('Predicted Probabilities: %s' % yhat[0])\n",
    "\n",
    "yhat = model.predict(row)\n",
    "print('Predicted Class: %d' % yhat[0])"
   ]
  },
  {
   "cell_type": "code",
   "execution_count": 54,
   "id": "706eb2a6",
   "metadata": {},
   "outputs": [
    {
     "name": "stdout",
     "output_type": "stream",
     "text": [
      "(562, 18) (562,)\n",
      "Mean Accuracy: 0.969 (0.022)\n",
      "Predicted Probabilities: [0.98163725 0.01836275]\n",
      "Predicted Class: 0\n"
     ]
    }
   ],
   "source": [
    "#taking out rows with NAN values, not worth it to try to fill them in\n",
    "dataNoNA = data.dropna()\n",
    "\n",
    "n = pd.unique(dataNoNA['Class'])\n",
    "#since there are only 15 unique values for class, the current plan is to assign each of them a number 0-14 \n",
    "\n",
    "#changing the names of the diseases to corresponding numbers\n",
    "dataNoNA.replace(to_replace=\"diaporthe-stem-canker\",\n",
    "           value=\"0\")\n",
    "dataNoNA.replace(to_replace=\"charcoal-rot\",\n",
    "           value=\"1\")\n",
    "dataNoNA.replace(to_replace=\"rhizoctonia-root-rot\",\n",
    "           value=\"2\")\n",
    "dataNoNA.replace(to_replace=\"phytophthora-rot\",\n",
    "           value=\"3\")\n",
    "dataNoNA.replace(to_replace=\"brown-stem-rot\",\n",
    "           value=\"4\")\n",
    "dataNoNA.replace(to_replace=\"powdery-mildew\",\n",
    "           value=\"5\")\n",
    "dataNoNA.replace(to_replace=\"downy-mildew\",\n",
    "           value=\"6\")\n",
    "dataNoNA.replace(to_replace=\"brown-spot\",\n",
    "           value=\"7\")\n",
    "dataNoNA.replace(to_replace=\"bacterial-blight\",\n",
    "           value=\"8\")\n",
    "dataNoNA.replace(to_replace=\"bacterial-pustule\",\n",
    "           value=\"9\")\n",
    "dataNoNA.replace(to_replace=\"purple-seed-stain\",\n",
    "           value=\"10\")\n",
    "dataNoNA.replace(to_replace=\"anthracnose\",\n",
    "           value=\"11\")\n",
    "dataNoNA.replace(to_replace=\"phyllosticta-leaf-spot\",\n",
    "           value=\"12\")\n",
    "dataNoNA.replace(to_replace=\"alternarialeaf-spot\",\n",
    "           value=\"13\")\n",
    "dataNoNA.replace(to_replace=\"frog-eye-leaf-spot\",\n",
    "           value=\"14\")\n",
    "\n",
    "\n",
    "#setting the variables to be considered in regression\n",
    "Xclass = dataNoNA.drop(['Class'],axis=1)\n",
    "yclass = dataNoNA['Class']\n",
    "\n",
    "#checking to make sure that the shape is correct for the regression to run\n",
    "print(Xclass.shape,yclass.shape)\n",
    "\n",
    "model = LogisticRegression(multi_class='multinomial', solver='lbfgs', penalty='l2', C=1.0, max_iter = 1000000)\n",
    "CModelEvalProcedure = RepeatedStratifiedKFold(n_splits=10, n_repeats=3, random_state=1)\n",
    "CModelAccuracyScores = cross_val_score(model, Xclass, yclass, scoring='accuracy', cv=ModelEvalProcedure, n_jobs=-1)\n",
    "print('Mean Accuracy: %.3f (%.3f)' % (mean(ModelAccuracyScores), std(ModelAccuracyScores)))\n",
    "\n",
    "#fit model+predict class of first observation\n",
    "result = model.fit(X, y)\n",
    "row = X.iloc[0:1, :]\n",
    "Cyhat = model.predict_proba(row)\n",
    "print('Predicted Probabilities: %s' % Cyhat[0])\n",
    "\n",
    "Cyhat = model.predict(row)\n",
    "print('Predicted Class: %d' % Cyhat[0])"
   ]
  },
  {
   "cell_type": "code",
   "execution_count": null,
   "id": "1ee09675",
   "metadata": {},
   "outputs": [],
   "source": []
  }
 ],
 "metadata": {
  "kernelspec": {
   "display_name": "Python 3 (ipykernel)",
   "language": "python",
   "name": "python3"
  },
  "language_info": {
   "codemirror_mode": {
    "name": "ipython",
    "version": 3
   },
   "file_extension": ".py",
   "mimetype": "text/x-python",
   "name": "python",
   "nbconvert_exporter": "python",
   "pygments_lexer": "ipython3",
   "version": "3.10.10"
  }
 },
 "nbformat": 4,
 "nbformat_minor": 5
}
